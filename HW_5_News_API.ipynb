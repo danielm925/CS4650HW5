{
  "nbformat": 4,
  "nbformat_minor": 0,
  "metadata": {
    "colab": {
      "name": "HW_5_News_API.ipynb",
      "provenance": [],
      "collapsed_sections": [],
      "authorship_tag": "ABX9TyMFIya8i1GL4hGtV6tAlZcV",
      "include_colab_link": true
    },
    "kernelspec": {
      "name": "python3",
      "display_name": "Python 3"
    },
    "language_info": {
      "name": "python"
    }
  },
  "cells": [
    {
      "cell_type": "markdown",
      "metadata": {
        "id": "view-in-github",
        "colab_type": "text"
      },
      "source": [
        "<a href=\"https://colab.research.google.com/github/danielm925/CS4650HW5/blob/master/HW_5_News_API.ipynb\" target=\"_parent\"><img src=\"https://colab.research.google.com/assets/colab-badge.svg\" alt=\"Open In Colab\"/></a>"
      ]
    },
    {
      "cell_type": "code",
      "source": [
        "import spacy\n",
        "import pickle\n",
        "import string\n",
        "import pandas as pd\n",
        "from newsapi import NewsApiClient\n",
        "from collections import Counter"
      ],
      "metadata": {
        "id": "CSNPckHVzbKF"
      },
      "execution_count": null,
      "outputs": []
    },
    {
      "cell_type": "code",
      "source": [
        "nlp_eng = spacy.load('en')\n",
        "newsapi = NewsApiClient (api_key='4777ecc219f542358774c59cfc2619bb')"
      ],
      "metadata": {
        "id": "L7kcNy8f6Aqm"
      },
      "execution_count": null,
      "outputs": []
    },
    {
      "cell_type": "code",
      "source": [
        "articles = newsapi.get_everything(q='coronavirus', language='en',\n",
        "from_param='2022-02-27', to='2022-03-26', sort_by='relevancy', page=5)"
      ],
      "metadata": {
        "id": "e04LjUQl9I7A"
      },
      "execution_count": null,
      "outputs": []
    },
    {
      "cell_type": "code",
      "source": [
        "filename = 'articlesCOVID.pckl'\n",
        "pickle.dump(articles, open(filename, 'wb'))\n",
        "filename = 'articlesCOVID.pckl'\n",
        "loaded_model = pickle.load(open(filename, 'rb'))\n",
        "filepath = '/content/articlesCOVID.pckl'\n",
        "pickle.dump(loaded_model, open(filepath, 'wb'))"
      ],
      "metadata": {
        "id": "CWj2Zrrz6eyV"
      },
      "execution_count": null,
      "outputs": []
    },
    {
      "cell_type": "code",
      "source": [
        "dados = []\n",
        "titles = []\n",
        "dates = []\n",
        "descriptions = []\n",
        "results = []"
      ],
      "metadata": {
        "id": "xigaxCXz-eZI"
      },
      "execution_count": null,
      "outputs": []
    },
    {
      "cell_type": "code",
      "source": [
        "for i,article in enumerate(articles):\n",
        "    for x in articles['articles']:\n",
        "        title = x['title']\n",
        "        description = x['description']\n",
        "        date = x['publishedAt']\n",
        "        content = x['content']\n",
        "        dados.append({'title':title, 'date':date, 'desc':description, 'content':content})\n",
        "df = pd.DataFrame(dados)\n",
        "df = df.dropna()\n",
        "df.head()"
      ],
      "metadata": {
        "id": "R-zRgGoK7EV8"
      },
      "execution_count": null,
      "outputs": []
    },
    {
      "cell_type": "code",
      "source": [
        "df"
      ],
      "metadata": {
        "id": "jcKzG-ixJM7P"
      },
      "execution_count": null,
      "outputs": []
    },
    {
      "cell_type": "code",
      "source": [
        "def get_keywords_eng(text):\n",
        "    result = []\n",
        "    pos_tag = ['PROPN', 'VERB', 'NOUN']\n",
        "    doc = nlp_eng(text.lower())\n",
        "    for token in doc:\n",
        "        if (token.text in nlp_eng.Defaults.stop_words or token.text in string.punctuation):\n",
        "            continue\n",
        "        if (token.pos_ in pos_tag):\n",
        "            result.append(token.text)\n",
        "    print(result)\n",
        "    return result"
      ],
      "metadata": {
        "id": "t9cU9hqU7noW"
      },
      "execution_count": null,
      "outputs": []
    },
    {
      "cell_type": "code",
      "source": [
        "for content in df.content.values:\n",
        "    results.append([('#' + x[0]) for x in Counter(get_keywords_eng(content)).most_common(5)])\n",
        "df['keywords'] = results"
      ],
      "metadata": {
        "id": "60QcSJSl7whR"
      },
      "execution_count": null,
      "outputs": []
    },
    {
      "cell_type": "code",
      "source": [
        "df.to_csv('coviddata')"
      ],
      "metadata": {
        "id": "hEHHTuzCDEcm"
      },
      "execution_count": null,
      "outputs": []
    }
  ]
}